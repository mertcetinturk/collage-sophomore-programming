{
 "cells": [
  {
   "cell_type": "code",
   "execution_count": 5,
   "metadata": {},
   "outputs": [],
   "source": [
    "import numpy as np\n",
    "import math\n",
    "\n",
    "def rotation():\n",
    "    \n",
    "    #First I took the position vectors values 'Xp, Yp, Zp'\n",
    "    \n",
    "    x = float(input(\"Please Enter 'Xp' Value: \"))\n",
    "    y = float(input(\"Please Enter 'Yp' Value: \"))\n",
    "    z = float(input(\"Please Enter 'Zp' Value: \"))\n",
    "    \n",
    "    #I converted the given inputs to a 3x1 matrix (to get a better look)\n",
    "    main_matrix = np.array([[x,y,z]])\n",
    "    \n",
    "    print(\"\\nThe Position Vector You Entered Is Below\\n\",main_matrix,\"\\n--------------------------\")\n",
    "    \n",
    "    #Then I converted 1x3 matris (to perform multiplication operations on the matrix)\n",
    "    main_matrix = main_matrix.T\n",
    "                            \n",
    "    \n",
    "    degree = int(input(\"\\nPlease Enter The Rotation Angle In Degrees: \"))\n",
    "\n",
    "    axis = int(input(\"Please Enter The Rotation Axis: \"))\n",
    "    \n",
    "    \n",
    "    #Because the math library's cos and sin operations work in radians, I needed to convert the degrees to radians before processing them, thus I used the math.radian() function.\n",
    "    \n",
    "    matrix_rotation_one = np.array([[ 1, 0, 0],[ 0, math.cos(math.radians(degree)), math.sin(math.radians(degree))],[0,-math.sin(math.radians(degree)),math.cos(math.radians(degree))]])\n",
    "\n",
    "    matrix_rotation_two = np.array([[ math.cos(math.radians(degree)), 0, -math.sin(math.radians(degree))],[ 0, 1, 0],[math.sin(math.radians(degree)),0,math.cos(math.radians(degree))]])\n",
    "\n",
    "    matrix_rotation_three = np.array([[ math.cos(math.radians(degree)), math.sin(math.radians(degree)), 0],[ -math.sin(math.radians(degree)), math.cos(math.radians(degree)), 0],[0,0,1]])\n",
    "\n",
    "    \n",
    "    #I defined the operation using the necessary matrix for the provided rotation axes and displayed the new position vector and its coordinates.\n",
    "    \n",
    "    if axis == 1:\n",
    "        print(\"\\n##########################\\n\")\n",
    "        a = matrix_rotation_one.dot(main_matrix)\n",
    "        \n",
    "        print(\"New Position Vector Of Point P:\\nP ---> \",a.T)\n",
    "        \n",
    "        print(\"\\nXp' --->\", (a[0]))\n",
    "        \n",
    "        print(\"Yp' --->\", (a[1]))\n",
    "        \n",
    "        print(\"Zp' --->\", (a[2]))\n",
    "        \n",
    "        \n",
    "    elif axis == 2:\n",
    "        print(\"\\n##########################\\n\")\n",
    "        b = matrix_rotation_two.dot(main_matrix)\n",
    "        \n",
    "        print(\"New Position Vector Of Point P:\\nP ---> \",b.T)\n",
    "        \n",
    "        print(\"\\nXp' --->\", (b[0]))\n",
    "        \n",
    "        print(\"Yp' --->\", (b[1]))\n",
    "        \n",
    "        print(\"Zp' --->\", (b[2]))\n",
    "        \n",
    "        \n",
    "    elif axis == 3:\n",
    "        print(\"\\n##########################\\n\")\n",
    "        c = matrix_rotation_three.dot(main_matrix)\n",
    "        \n",
    "        print(\"New Position Vector Of Point P:\\nP ---> \",c.T)\n",
    "        \n",
    "        print(\"\\nXp' --->\", (c[0]))\n",
    "        \n",
    "        print(\"Yp' --->\", (c[1]))\n",
    "        \n",
    "        print(\"Zp' --->\", (c[2]))\n",
    "        \n",
    "    \n",
    "    else:\n",
    "        print(\"Axis Values Must Be '1, 2 or 3'.\")\n",
    "        \n",
    "        "
   ]
  },
  {
   "cell_type": "code",
   "execution_count": 6,
   "metadata": {},
   "outputs": [
    {
     "name": "stdout",
     "output_type": "stream",
     "text": [
      "Please Enter 'Xp' Value: 100\n",
      "Please Enter 'Yp' Value: 120\n",
      "Please Enter 'Zp' Value: 200\n",
      "\n",
      "The Position Vector You Entered Is Below\n",
      " [[100. 120. 200.]] \n",
      "--------------------------\n",
      "\n",
      "Please Enter The Rotation Angle In Degrees: -20\n",
      "Please Enter The Rotation Axis: 2\n",
      "\n",
      "##########################\n",
      "\n",
      "New Position Vector Of Point P:\n",
      "P --->  [[162.37329074 120.         153.73650982]]\n",
      "\n",
      "Xp' ---> [162.37329074]\n",
      "Yp' ---> [120.]\n",
      "Zp' ---> [153.73650982]\n"
     ]
    }
   ],
   "source": [
    "rotation()"
   ]
  },
  {
   "cell_type": "code",
   "execution_count": 7,
   "metadata": {},
   "outputs": [
    {
     "name": "stdout",
     "output_type": "stream",
     "text": [
      "Please Enter 'Xp' Value: 162.37329074\n",
      "Please Enter 'Yp' Value: 120\n",
      "Please Enter 'Zp' Value: 153.73650982\n",
      "\n",
      "The Position Vector You Entered Is Below\n",
      " [[162.37329074 120.         153.73650982]] \n",
      "--------------------------\n",
      "\n",
      "Please Enter The Rotation Angle In Degrees: 25\n",
      "Please Enter The Rotation Axis: 3\n",
      "\n",
      "##########################\n",
      "\n",
      "New Position Vector Of Point P:\n",
      "P --->  [[197.87436921  40.13501656 153.73650982]]\n",
      "\n",
      "Xp' ---> [197.87436921]\n",
      "Yp' ---> [40.13501656]\n",
      "Zp' ---> [153.73650982]\n"
     ]
    }
   ],
   "source": [
    "rotation()"
   ]
  },
  {
   "cell_type": "code",
   "execution_count": 8,
   "metadata": {},
   "outputs": [
    {
     "name": "stdout",
     "output_type": "stream",
     "text": [
      "Please Enter 'Xp' Value: 197.87436921\n",
      "Please Enter 'Yp' Value: 40.13501656\n",
      "Please Enter 'Zp' Value: 153.73650982\n",
      "\n",
      "The Position Vector You Entered Is Below\n",
      " [[197.87436921  40.13501656 153.73650982]] \n",
      "--------------------------\n",
      "\n",
      "Please Enter The Rotation Angle In Degrees: 7\n",
      "Please Enter The Rotation Axis: 2\n",
      "\n",
      "##########################\n",
      "\n",
      "New Position Vector Of Point P:\n",
      "P --->  [[177.66367616  40.13501656 176.70540064]]\n",
      "\n",
      "Xp' ---> [177.66367616]\n",
      "Yp' ---> [40.13501656]\n",
      "Zp' ---> [176.70540064]\n"
     ]
    }
   ],
   "source": [
    "rotation()"
   ]
  },
  {
   "cell_type": "code",
   "execution_count": null,
   "metadata": {},
   "outputs": [],
   "source": []
  }
 ],
 "metadata": {
  "kernelspec": {
   "display_name": "Python 3",
   "language": "python",
   "name": "python3"
  },
  "language_info": {
   "codemirror_mode": {
    "name": "ipython",
    "version": 3
   },
   "file_extension": ".py",
   "mimetype": "text/x-python",
   "name": "python",
   "nbconvert_exporter": "python",
   "pygments_lexer": "ipython3",
   "version": "3.8.3"
  }
 },
 "nbformat": 4,
 "nbformat_minor": 4
}
